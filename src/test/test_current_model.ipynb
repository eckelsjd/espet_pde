{
 "cells": [
  {
   "cell_type": "code",
   "execution_count": 1,
   "metadata": {
    "collapsed": true
   },
   "outputs": [],
   "source": [
    "from SciTech2022_inference import current_model\n",
    "import numpy as np\n",
    "import matplotlib.pyplot as plt\n",
    "import scipy.io"
   ]
  },
  {
   "cell_type": "code",
   "execution_count": 94,
   "outputs": [],
   "source": [
    "def mapminmax(x, xmin, xmax, ymin, ymax, direction='Forward'):\n",
    "    \"\"\"\n",
    "    Pre and post process feedforwardnet,\n",
    "    Ni: number of inputs\n",
    "    No: number of outputs\n",
    "    Nd: number of data samples\n",
    "    :param x: (Ni,Nd) if 'Forward', (No,Nd) if 'Reverse', data that is to be mapped\n",
    "    :param xmin: (Ni,1) if 'Forward', (No,1) if 'Reverse': minimum x value from NN training\n",
    "    :param xmax: (Ni,1) if 'Forward', (No,1) if 'Reverse': maximum x value from NN training\n",
    "    :param ymin: (1,1) mapping minimum for both NN inputs/outputs (assume they use the same mapping)\n",
    "    :param ymax: (1,1) mapping maximum for both NN inputs/outputs (assume they use the same mapping)\n",
    "    :param direction: 'Forward' for network inputs, 'Reverse' for network outputs\n",
    "    :return:\n",
    "    \"\"\"\n",
    "    if direction == 'Forward':\n",
    "        # Apply the mapping x -> xnorm\n",
    "        Ni, Nd = x.shape\n",
    "        xmin_tile = np.tile(xmin, (1,Nd))\n",
    "        xmax_tile = np.tile(xmax, (1,Nd))\n",
    "        xnorm = np.divide((x - xmin_tile),(xmax_tile-xmin_tile))*(ymax-ymin) + ymin\n",
    "        return xnorm\n",
    "    elif direction == 'Reverse':\n",
    "        # Undo the mapping y -> ynorm (equivalently, apply the mapping ynorm -> y)\n",
    "        No, Nd = x.shape\n",
    "        ynorm = x # raw network output is already normalized\n",
    "        ynorm_min = ymin\n",
    "        ynorm_max = ymax\n",
    "        ymin_tile = np.tile(xmin,(1,Nd))\n",
    "        ymax_tile = np.tile(xmax,(1,Nd))\n",
    "        ratio = (ynorm - ynorm_min)/(ynorm_max-ynorm_min)\n",
    "        y = np.multiply(ratio, (ymax_tile - ymin_tile)) + ymin_tile\n",
    "        return y\n",
    "    else:\n",
    "        print(f'Incorrect direction: {direction}')\n",
    "\n",
    "def net(weights_file, geom, V0=1000, N=200):\n",
    "    \"\"\"\n",
    "    Forward prediction of Electric field from NN surrogate\n",
    "    :param weights_file: Path to NN weights .mat file\n",
    "    :param geom: (5,) array of emitter geometry [d, rc, alpha, h, ra]\n",
    "    :param V0: Bias voltage (default: 1000V)\n",
    "    :param N: Number of discretization points of emitter surface (default: 200)\n",
    "    :return: (s, E_x, E_y) => cartesian components of electric field at s locations on emitter surface\n",
    "    \"\"\"\n",
    "    d = geom[0]     # Tip-to-extractor distance [m]\n",
    "    rc = geom[1]    # Radius of curvature [m]\n",
    "    alpha = geom[2] # Cone half-angle [rad]\n",
    "    h = geom[3]     # Emitter height [m]\n",
    "    ra = geom[4]    # Radius of aperture [m]\n",
    "\n",
    "    # Format geometry for the network (non-dimensionalize)\n",
    "    x = np.array([d/h, rc/h, alpha, ra/h]).T\n",
    "    x = np.tile(np.reshape(x,(4,1)),(1,N))\n",
    "    s = np.linspace(0,1,N).reshape(1,N)\n",
    "    x = np.concatenate((x,s))\n",
    "\n",
    "    # Load weights and biases\n",
    "    data = scipy.io.loadmat(weights_file)\n",
    "    IW = data['IW'][0,0]    # input weights\n",
    "    LW = data['LW']         # layer weights\n",
    "    b = data['bias']        # biases\n",
    "    num_layers = b.shape[0] - 1\n",
    "\n",
    "    # Network preprocessing (mapminmax normalization)\n",
    "    in_params = data['input_params'][0,0]\n",
    "    xmax = in_params[2]\n",
    "    xmin = in_params[3]\n",
    "    ymax = np.squeeze(in_params[6])\n",
    "    ymin = np.squeeze(in_params[7])\n",
    "    xnorm = mapminmax(x, xmin, xmax, ymin, ymax, direction='Forward')\n",
    "\n",
    "    # Input layer\n",
    "    activation = np.tanh(IW @ xnorm + np.tile(b[0,0],(1,N)))\n",
    "\n",
    "    # Hidden layers\n",
    "    for l in range(num_layers):\n",
    "        if l < num_layers - 1:\n",
    "            activation = np.tanh(LW[l+1, l] @ activation + np.tile(b[l+1,0],(1,N)))\n",
    "        else:\n",
    "            # Linear activation for output regression layer\n",
    "            activation = LW[l+1, l] @ activation + np.tile(b[l+1,0],(1,N))\n",
    "\n",
    "    # Network postprecessing (undo mapminmax)\n",
    "    out_params = data['output_params'][0,0]\n",
    "    xmax = out_params[2]\n",
    "    xmin = out_params[3]\n",
    "    ymax = np.squeeze(out_params[6])\n",
    "    ymin = np.squeeze(out_params[7])\n",
    "    y = mapminmax(activation, xmin, xmax, ymin, ymax, direction='Reverse')\n",
    "\n",
    "    # Re-dimensionalize\n",
    "    E_x = y[0,:] * (V0/h)\n",
    "    E_y = y[1,:] * (V0/h)\n",
    "\n",
    "    return np.squeeze(s), E_x, E_y"
   ],
   "metadata": {
    "collapsed": false,
    "pycharm": {
     "name": "#%%\n"
    }
   }
  },
  {
   "cell_type": "code",
   "execution_count": 181,
   "outputs": [],
   "source": [
    "Nr = 1      # number of realizations\n",
    "Ne = 576    # number of emitters\n",
    "\n",
    "# Model parameters (zeta_1, zeta_2, b_0)\n",
    "params = np.array([1.18, 7.35e-3, 7e-6])\n",
    "# params = np.array([2.57, 1.69e-2, 2e-5])\n",
    "\n",
    "# Voltage prediction locations\n",
    "voltage = np.linspace(0,2000,1000)\n",
    "\n",
    "# Substrate properties\n",
    "rp = np.mean([5e-6, 8e-6])  # pore radius [m]\n",
    "kappa = 1.51e-13            # permittivity [m^-2]\n",
    "subs = np.array([[rp], [kappa]])\n",
    "subs.reshape(2,Nr)\n",
    "\n",
    "# Material properties\n",
    "k = np.mean([1.147, 1.39])              # conductivity [Sm^-1]\n",
    "gamma = np.mean([5.003e-2, 5.045e-2])   # surface tension [N/m]\n",
    "rho = np.mean([1.28e3, 1.284e3])        # density [kg/m^3]\n",
    "mu = np.mean([2.612e-2, 3.416e-2])      # viscosity [N-s/m^2]\n",
    "props = np.array([k, gamma, rho, mu]).T.reshape(4,Nr)\n",
    "\n",
    "# Propellant properties\n",
    "qm_ratio = 5.5e5          # charge to mass ratio [C/kg]\n",
    "beams = np.array([qm_ratio]).reshape(1,Nr)\n",
    "\n",
    "# Geometry parameters\n",
    "rc = np.mean([1e-5, 2e-5])\n",
    "d = 3e-6\n",
    "ra = 2.486e-4\n",
    "alpha = 2.678e-1\n",
    "h = 3.018e-4\n",
    "rpl = 6.5e-7\n",
    "geoms = np.array([rc, d, ra, alpha, h, rpl])\n",
    "geoms = np.tile(geoms[:,np.newaxis],(1,Ne)).reshape(6,Ne,Nr)\n",
    "\n",
    "# Get surrogate Efield solution\n",
    "wfile = 'dffnet_weights.mat'\n",
    "emitter_geo = np.array([d, rc, alpha, h, ra])\n",
    "V0 = 1000;\n",
    "s, Ex, Ey = net(wfile, emitter_geo, V0=V0)\n",
    "Emax = max(np.sqrt(np.square(Ex) + np.square(Ey)))/V0; # format for es_model\n",
    "# es_model = np.ones((1,Ne,Nr))*Emax\n",
    "es_model = np.ones((1,Ne,Nr))*(4.64e7/V0)"
   ],
   "metadata": {
    "collapsed": false,
    "pycharm": {
     "name": "#%%\n"
    }
   }
  },
  {
   "cell_type": "code",
   "execution_count": 182,
   "outputs": [
    {
     "data": {
      "text/plain": "<Figure size 720x360 with 2 Axes>",
      "image/png": "[encoded data removed]"
     },
     "metadata": {
      "needs_background": "light"
     },
     "output_type": "display_data"
    }
   ],
   "source": [
    "fig, ax = plt.subplots(1,2)\n",
    "ax[0].plot(s,Ex)\n",
    "ax[1].plot(s,Ey)\n",
    "fig.tight_layout(pad=3.0)\n",
    "fig.set_size_inches(10,5)\n",
    "plt.show()"
   ],
   "metadata": {
    "collapsed": false,
    "pycharm": {
     "name": "#%%\n"
    }
   }
  },
  {
   "cell_type": "code",
   "execution_count": 183,
   "outputs": [],
   "source": [
    "current = current_model(params,voltage,subs,props,beams,geoms,es_models=es_model)"
   ],
   "metadata": {
    "collapsed": false,
    "pycharm": {
     "name": "#%%\n"
    }
   }
  },
  {
   "cell_type": "code",
   "execution_count": 186,
   "outputs": [
    {
     "data": {
      "text/plain": "<Figure size 432x288 with 1 Axes>",
      "image/png": "[encoded data removed]"
     },
     "metadata": {},
     "output_type": "display_data"
    }
   ],
   "source": [
    "fig = plt.figure()\n",
    "plt.plot(voltage,current)\n",
    "rect = fig.patch\n",
    "rect.set_facecolor('white')\n",
    "plt.xlabel('Voltage [V]')\n",
    "plt.ylabel('Current [A]')\n",
    "plt.show()"
   ],
   "metadata": {
    "collapsed": false,
    "pycharm": {
     "name": "#%%\n"
    }
   }
  },
  {
   "cell_type": "code",
   "execution_count": 162,
   "outputs": [
    {
     "data": {
      "text/plain": "array([0.])"
     },
     "execution_count": 162,
     "metadata": {},
     "output_type": "execute_result"
    }
   ],
   "source": [
    "max(current)"
   ],
   "metadata": {
    "collapsed": false,
    "pycharm": {
     "name": "#%%\n"
    }
   }
  },
  {
   "cell_type": "code",
   "execution_count": null,
   "outputs": [],
   "source": [],
   "metadata": {
    "collapsed": false,
    "pycharm": {
     "name": "#%%\n"
    }
   }
  }
 ],
 "metadata": {
  "kernelspec": {
   "display_name": "Python 3",
   "language": "python",
   "name": "python3"
  },
  "language_info": {
   "codemirror_mode": {
    "name": "ipython",
    "version": 2
   },
   "file_extension": ".py",
   "mimetype": "text/x-python",
   "name": "python",
   "nbconvert_exporter": "python",
   "pygments_lexer": "ipython2",
   "version": "2.7.6"
  }
 },
 "nbformat": 4,
 "nbformat_minor": 0
}