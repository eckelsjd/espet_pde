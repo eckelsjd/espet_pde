{
 "cells": [
  {
   "cell_type": "code",
   "execution_count": 1,
   "outputs": [],
   "source": [
    "import numpy as np\n",
    "import matplotlib.pyplot as plt\n",
    "import math\n",
    "%matplotlib inline"
   ],
   "metadata": {
    "collapsed": false,
    "pycharm": {
     "name": "#%%\n"
    }
   }
  },
  {
   "cell_type": "code",
   "execution_count": null,
   "outputs": [],
   "source": [
    "# Simple nonlinear model example with thetad=1, xd=1\n",
    "def nonlinear_model(theta, x):\n",
    "    thetad, Ns = theta.shape\n",
    "    xd, Nx = x.shape\n",
    "    assert thetad == 1 and xd == 1\n",
    "\n",
    "    return np.square(x).T @ np.power(theta,3) + np.exp(-abs(0.2-x)).T @ theta\n",
    "\n",
    "# Assumes Gaussian noise model: y(theta, x) = G(theta, x) + epsilon,  where epsilon ~ N(0, var)\n",
    "# y(theta,x) should be a single scalar output\n",
    "def expected_information(Ns, Nx, x_sampler, prior_sampler, model, noise_var=1e-4):\n",
    "    def gaussian_1d(x, mu, var):\n",
    "        return 1/np.sqrt(2*np.pi*var) * np.exp((-0.5/var)*np.square(x-mu))\n",
    "\n",
    "    def fix_shape(x):\n",
    "        x = np.atleast_1d(np.squeeze(x)).astype(np.float16)\n",
    "        if len(x.shape) == 1:\n",
    "            x = x[np.newaxis, :]\n",
    "        return x\n",
    "\n",
    "    # Sample experimental input locations x\n",
    "    x_samples = fix_shape(x_sampler(Nx))  # (xd, Nx)\n",
    "    xd = x_samples.shape[0]\n",
    "\n",
    "    # Sample the prior\n",
    "    theta_samples = fix_shape(prior_sampler(Ns))  # (thetad, Ns)\n",
    "    thetad = theta_samples.shape[0]\n",
    "\n",
    "    # Evaluate the model\n",
    "    g_theta = fix_shape(model(theta_samples, x_samples)) # (Nx, Ns)\n",
    "    assert g_theta.shape == (Nx, Ns)\n",
    "\n",
    "    # Get samples of y\n",
    "    y = np.random.normal(loc=g_theta, scale=np.sqrt(noise_var)).astype(np.float16)  # (Nx, Ns)\n",
    "\n",
    "    # Likelihood\n",
    "    likelihood = gaussian_1d(y, g_theta, noise_var)  # (Nx, Ns) grid\n",
    "\n",
    "\n",
    "    # Tile and flip g_theta's to align with repeated y's on 3rd axis\n",
    "    # y_tile = np.tile(y[:,:,np.newaxis],(1,1,Ns)) # (Nx, Ns, Ns)\n",
    "    # g_theta_tile = np.tile(g_theta[:, np.newaxis, :], (1, Ns, 1)) # (Nx, Ns, Ns)\n",
    "\n",
    "    # Evidence\n",
    "    # evidence = np.mean(gaussian_1d(y_tile, g_theta_tile, noise_var), axis=2)  # (Nx, Ns)\n",
    "\n",
    "    # Too big to fit single (Nx, Ns, Ns) in memory, break up 2nd axis\n",
    "    evidence = np.zeros((Nx, Ns)).astype(np.float16)\n",
    "    bs = 500 # batch size\n",
    "    for j in range(math.ceil(Ns/bs)):\n",
    "        print(f'Loop j: {j} out of {math.ceil(Ns/bs)-1}')\n",
    "        start_idx = j*bs\n",
    "        end_idx = min(start_idx + bs, Ns)\n",
    "        y_j = y[:, start_idx:end_idx]  # (Nx, bs)\n",
    "\n",
    "        y_tile = np.tile(y_j[:,:,np.newaxis],(1,1,Ns)) # (Nx, bs, Ns)\n",
    "        g_theta_tile = np.tile(g_theta[:, np.newaxis, :], (1, bs, 1)) # (Nx, bs, Ns)\n",
    "        evidence[:, start_idx:end_idx] = np.mean(gaussian_1d(y_tile, g_theta_tile, noise_var), axis=2)  # (Nx, bs)\n",
    "\n",
    "        # y_tile = np.tile(y_j[:,np.newaxis], (1, Ns))\n",
    "        # evidence[:, start_idx:end_idx] = np.mean(gaussian_1d(y_tile, g_theta, noise_var), axis=1) # (Nx, Ns)\n",
    "\n",
    "    # Expected information gain\n",
    "    utility = np.mean(np.log(likelihood) - np.log(evidence), axis=1) # (Nx,)\n",
    "\n",
    "    return x_samples, utility\n",
    "\n",
    "x_sampler = lambda Nx: np.linspace(0,1,Nx)\n",
    "theta_sampler = lambda Ns: np.random.rand(Ns)\n",
    "Ns = 50**3\n",
    "Nx = 101\n",
    "d, U_d = expected_information(Ns, Nx, x_sampler, theta_sampler, nonlinear_model)"
   ],
   "metadata": {
    "collapsed": false,
    "pycharm": {
     "name": "#%%\n",
     "is_executing": true
    }
   }
  },
  {
   "cell_type": "code",
   "execution_count": 7,
   "outputs": [
    {
     "data": {
      "text/plain": "dtype('float16')"
     },
     "execution_count": 7,
     "metadata": {},
     "output_type": "execute_result"
    }
   ],
   "source": [
    "U_d.dtype"
   ],
   "metadata": {
    "collapsed": false,
    "pycharm": {
     "name": "#%%\n"
    }
   }
  },
  {
   "cell_type": "code",
   "execution_count": 8,
   "outputs": [
    {
     "data": {
      "text/plain": "<Figure size 432x288 with 1 Axes>",
      "image/png": "[encoded data removed]"
     },
     "metadata": {
      "needs_background": "light"
     },
     "output_type": "display_data"
    }
   ],
   "source": [
    "plt.figure()\n",
    "plt.plot(np.squeeze(d), U_d, '-k')\n",
    "plt.xlabel('$d$')\n",
    "plt.ylabel('$\\hat{U}(d)$')\n",
    "plt.show()"
   ],
   "metadata": {
    "collapsed": false,
    "pycharm": {
     "name": "#%%\n"
    }
   }
  },
  {
   "cell_type": "code",
   "execution_count": null,
   "outputs": [],
   "source": [],
   "metadata": {
    "collapsed": false,
    "pycharm": {
     "name": "#%%\n"
    }
   }
  }
 ],
 "metadata": {
  "kernelspec": {
   "display_name": "Python 3",
   "language": "python",
   "name": "python3"
  },
  "language_info": {
   "codemirror_mode": {
    "name": "ipython",
    "version": 2
   },
   "file_extension": ".py",
   "mimetype": "text/x-python",
   "name": "python",
   "nbconvert_exporter": "python",
   "pygments_lexer": "ipython2",
   "version": "2.7.6"
  }
 },
 "nbformat": 4,
 "nbformat_minor": 0
}