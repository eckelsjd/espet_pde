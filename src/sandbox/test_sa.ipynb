{
 "cells": [
  {
   "cell_type": "code",
   "execution_count": 12,
   "outputs": [],
   "source": [
    "from SALib.sample import saltelli\n",
    "from SALib.analyze import sobol\n",
    "from SALib.test_functions import Ishigami\n",
    "import numpy as np\n",
    "import matplotlib.pyplot as plt\n",
    "import scipy.io\n",
    "from pathlib import Path\n",
    "\n",
    "from src.scripts.esi_surrogate import forward\n",
    "from src.scripts.geom_sampler import lhc_sampler, D_BOUNDS, RC_BOUNDS, ALPHA_BOUNDS, H_BOUNDS, RA_BOUNDS\n",
    "\n",
    "data_dir = Path('../../data/geometry')"
   ],
   "metadata": {
    "collapsed": false,
    "pycharm": {
     "name": "#%%\n"
    }
   }
  },
  {
   "cell_type": "code",
   "execution_count": 20,
   "outputs": [],
   "source": [
    "problem = {\n",
    "    'num_vars': 5,\n",
    "    'names': ['d', 'rc', 'alpha', 'h', 'ra'],\n",
    "    'bounds': [[x*1e-6 for x in D_BOUNDS], [x*1e-6 for x in RC_BOUNDS], [x*np.pi/180 for x in ALPHA_BOUNDS],\n",
    "               [x*1e-6 for x in H_BOUNDS] , [x*1e-6 for x in RA_BOUNDS]]\n",
    "}\n",
    "\n",
    "N = 7000\n",
    "samples = lhc_sampler(N)\n",
    "emax = forward(samples.T, net_file=str(data_dir/'models'/'esi_surrogate.onnx'),\n",
    "                    data_file=str(data_dir/'models'/'norm_data.mat'))"
   ],
   "metadata": {
    "collapsed": false,
    "pycharm": {
     "name": "#%%\n"
    }
   }
  },
  {
   "cell_type": "code",
   "execution_count": 21,
   "outputs": [
    {
     "name": "stdout",
     "output_type": "stream",
     "text": [
      "             ST   ST_conf\n",
      "d      1.200368  0.234317\n",
      "rc     1.089495  0.192769\n",
      "alpha  1.019339  0.152323\n",
      "h      1.057362  0.163800\n",
      "ra     0.986757  0.157882\n",
      "             S1   S1_conf\n",
      "d      0.055325  0.095489\n",
      "rc     0.030180  0.094446\n",
      "alpha  0.024489  0.082700\n",
      "h      0.038121  0.085495\n",
      "ra     0.062585  0.084021\n"
     ]
    }
   ],
   "source": [
    "Si = sobol.analyze(problem, emax, print_to_console=True, calc_second_order=False)"
   ],
   "metadata": {
    "collapsed": false,
    "pycharm": {
     "name": "#%%\n"
    }
   }
  },
  {
   "cell_type": "code",
   "execution_count": 22,
   "outputs": [
    {
     "name": "stdout",
     "output_type": "stream",
     "text": [
      "          ST   ST_conf\n",
      "x1  0.555860  0.077531\n",
      "x2  0.441898  0.040259\n",
      "x3  0.244675  0.027902\n",
      "          S1   S1_conf\n",
      "x1  0.316832  0.055590\n",
      "x2  0.443763  0.049807\n",
      "x3  0.012203  0.055550\n",
      "                S2   S2_conf\n",
      "(x1, x2)  0.009254  0.076015\n",
      "(x1, x3)  0.238172  0.110699\n",
      "(x2, x3) -0.004888  0.059443\n"
     ]
    }
   ],
   "source": [
    "problem = {\n",
    "    'num_vars': 3,\n",
    "    'names': ['x1', 'x2', 'x3'],\n",
    "    'bounds': [[-np.pi, np.pi]]*3,\n",
    "}\n",
    "\n",
    "# Sample\n",
    "param_values = saltelli.sample(problem, 1024)\n",
    "\n",
    "# Run model\n",
    "Y = Ishigami.evaluate(param_values)\n",
    "\n",
    "# Sobol sensitivity indices\n",
    "Si = sobol.analyze(problem, Y, print_to_console=True)"
   ],
   "metadata": {
    "collapsed": false,
    "pycharm": {
     "name": "#%%\n"
    }
   }
  },
  {
   "cell_type": "code",
   "execution_count": 23,
   "outputs": [
    {
     "data": {
      "text/plain": "{'num_vars': 3,\n 'names': ['x1', 'x2', 'x3'],\n 'bounds': [[-3.141592653589793, 3.141592653589793],\n  [-3.141592653589793, 3.141592653589793],\n  [-3.141592653589793, 3.141592653589793]],\n 'sample_scaled': True}"
     },
     "execution_count": 23,
     "metadata": {},
     "output_type": "execute_result"
    }
   ],
   "source": [
    "problem"
   ],
   "metadata": {
    "collapsed": false,
    "pycharm": {
     "name": "#%%\n"
    }
   }
  },
  {
   "cell_type": "code",
   "execution_count": 19,
   "outputs": [
    {
     "data": {
      "text/plain": "numpy.ndarray"
     },
     "execution_count": 19,
     "metadata": {},
     "output_type": "execute_result"
    }
   ],
   "source": [
    "type(Y)"
   ],
   "metadata": {
    "collapsed": false,
    "pycharm": {
     "name": "#%%\n"
    }
   }
  },
  {
   "cell_type": "code",
   "execution_count": 10,
   "outputs": [
    {
     "data": {
      "text/plain": "{'S1': array([0.31683154, 0.44376306, 0.01220312]),\n 'S1_conf': array([0.06730461, 0.05665592, 0.0572674 ]),\n 'ST': array([0.55586009, 0.44189807, 0.24467539]),\n 'ST_conf': array([0.07614813, 0.03993115, 0.02402399]),\n 'S2': array([[        nan,  0.00925429,  0.23817211],\n        [        nan,         nan, -0.0048877 ],\n        [        nan,         nan,         nan]]),\n 'S2_conf': array([[       nan, 0.08673279, 0.10968803],\n        [       nan,        nan, 0.06650353],\n        [       nan,        nan,        nan]])}"
     },
     "execution_count": 10,
     "metadata": {},
     "output_type": "execute_result"
    }
   ],
   "source": [
    "Si"
   ],
   "metadata": {
    "collapsed": false,
    "pycharm": {
     "name": "#%%\n"
    }
   }
  },
  {
   "cell_type": "code",
   "execution_count": null,
   "outputs": [],
   "source": [
    "alpha = 30 * np.pi/180\n",
    "rc = 30e-6\n",
    "d = 500e-6\n",
    "ra = 300e-6\n",
    "N = 100\n",
    "h = np.linspace(50e-6, 1000e-6, N)\n",
    "\n",
    "x = np.vstack((np.ones((1,N))*d, np.ones((1,N))*rc, np.ones((1,N))*alpha, h[np.newaxis, :], np.ones((1,N))*ra))\n",
    "emax = forward(x, net_file='../../data/geometry/models/esi_surrogate.onnx', data_file='../../data/geometry/models/norm_data.mat',\n",
    "               V0=1000)\n",
    "plt.figure()\n",
    "plt.plot(h, emax)\n",
    "plt.xlabel('Emitter height (um)')\n",
    "plt.ylabel('Max electric field magnitude (V/m)')\n",
    "plt.show()"
   ],
   "metadata": {
    "collapsed": false,
    "pycharm": {
     "name": "#%%\n"
    }
   }
  }
 ],
 "metadata": {
  "kernelspec": {
   "display_name": "Python 3",
   "language": "python",
   "name": "python3"
  },
  "language_info": {
   "codemirror_mode": {
    "name": "ipython",
    "version": 2
   },
   "file_extension": ".py",
   "mimetype": "text/x-python",
   "name": "python",
   "nbconvert_exporter": "python",
   "pygments_lexer": "ipython2",
   "version": "2.7.6"
  }
 },
 "nbformat": 4,
 "nbformat_minor": 0
}